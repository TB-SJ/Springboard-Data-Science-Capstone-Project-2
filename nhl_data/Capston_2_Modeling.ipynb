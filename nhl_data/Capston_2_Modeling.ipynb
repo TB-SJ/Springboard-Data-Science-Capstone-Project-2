{
 "cells": [
  {
   "cell_type": "markdown",
   "id": "de188d35-dda6-443d-b78d-5c1ec9d4b479",
   "metadata": {},
   "source": [
    "# Modeling"
   ]
  },
  {
   "cell_type": "code",
   "execution_count": 1,
   "id": "cfcd3c92-3548-4e78-b1fe-a337d1e8d75e",
   "metadata": {},
   "outputs": [],
   "source": [
    "# Import libraries\n",
    "import pandas as pd\n",
    "import numpy as np\n",
    "import os\n",
    "import pickle\n",
    "import matplotlib.pyplot as plt\n",
    "import seaborn as sns\n",
    "from sklearn import __version__ as sklearn_version\n",
    "from sklearn.decomposition import PCA\n",
    "from sklearn.preprocessing import scale\n",
    "from sklearn.model_selection import train_test_split, cross_validate, GridSearchCV, learning_curve\n",
    "from sklearn.preprocessing import StandardScaler, MinMaxScaler\n",
    "from sklearn.linear_model import LinearRegression\n",
    "from sklearn.ensemble import RandomForestRegressor\n",
    "from sklearn.ensemble import RandomForestClassifier\n",
    "from sklearn.metrics import r2_score, mean_squared_error, mean_absolute_error\n",
    "from sklearn.pipeline import make_pipeline\n",
    "from sklearn.impute import SimpleImputer\n",
    "from sklearn import __version__ as sklearn_version\n",
    "from sklearn.model_selection import cross_validate\n",
    "from sklearn.feature_selection import SelectKBest, f_regression\n",
    "from sklearn.linear_model import LogisticRegression\n",
    "from sklearn.metrics import classification_report, roc_auc_score, confusion_matrix, ConfusionMatrixDisplay\n",
    "from sklearn.metrics import precision_score, recall_score, f1_score\n",
    "from xgboost import XGBClassifier\n",
    "from imblearn.over_sampling import SMOTE\n",
    "from imblearn.under_sampling import RandomUnderSampler\n",
    "from xgboost import XGBClassifier\n",
    "from sklearn.model_selection import RandomizedSearchCV\n",
    "import datetime"
   ]
  },
  {
   "cell_type": "code",
   "execution_count": 2,
   "id": "9373ef58-0e7a-41f5-b5ae-682408187e3c",
   "metadata": {},
   "outputs": [
    {
     "name": "stdout",
     "output_type": "stream",
     "text": [
      "X_train_unscaled loaded successfully\n",
      "X_test_unscaled loaded successfully\n",
      "X_train_scaled loaded successfully\n",
      "X_test_scaled loaded successfully\n",
      "y_train loaded successfully\n",
      "y_test loaded successfully\n",
      "X_val_unscaled loaded successfully\n",
      "X_val_scaled loaded successfully\n",
      "y_val loaded successfully\n"
     ]
    }
   ],
   "source": [
    "# Load transformed files\n",
    "\n",
    "file_names = ['X_train_unscaled', 'X_test_unscaled', 'X_train_scaled', 'X_test_scaled', \\\n",
    "              'y_train', 'y_test' ,'X_val_unscaled' , 'X_val_scaled', 'y_val']\n",
    "\n",
    "# Base directory path\n",
    "directory = r'C:\\Users\\Travi\\OneDrive\\Documents\\GitHub\\Springboard-Data-Science-Capstone-Project-2\\nhl data\\shots_07_22'\n",
    "\n",
    "dataframes = {}\n",
    "\n",
    "# Loop through each dataset name\n",
    "for file in file_names:\n",
    "    # Construct the full path dynamically\n",
    "    file_path = f\"{directory}\\\\{file}.csv\"\n",
    "    file_name = os.path.basename(file)\n",
    "    \n",
    "    # Read the CSV into a DataFrame and store it in the dictionary\n",
    "    dataframes[file] = pd.read_csv(file_path)\n",
    "    print(f\"{file_name} loaded successfully\")\n",
    "    \n",
    "# Extract DataFrames from the dictionary and assign them to individual variables\n",
    "for dataset_name, df in dataframes.items():\n",
    "            globals()[dataset_name] = df  # Create a variable with the name of the dataset"
   ]
  },
  {
   "cell_type": "markdown",
   "id": "089ad868-ee4e-457a-82d4-92c6d6495924",
   "metadata": {},
   "source": [
    "### Class Distribution"
   ]
  },
  {
   "cell_type": "code",
   "execution_count": 3,
   "id": "e5b0d13f-ca01-4b96-8f7d-727416995c6d",
   "metadata": {},
   "outputs": [
    {
     "name": "stdout",
     "output_type": "stream",
     "text": [
      "Class Distribution in Training Set:\n",
      "goal\n",
      "0       1102397\n",
      "1        111871\n",
      "Name: count, dtype: int64\n",
      "Imbalance Ratio (Non-goals:Goals) = 9.85\n"
     ]
    }
   ],
   "source": [
    "# Class distribution\n",
    "goal_counts = y_train.value_counts()\n",
    "print(\"Class Distribution in Training Set:\")\n",
    "print(goal_counts)\n",
    "\n",
    "# Calculate imbalance ratio\n",
    "imbalance_ratio = goal_counts[0] / goal_counts[1]  # Non-goals / Goals\n",
    "print(f\"Imbalance Ratio (Non-goals:Goals) = {imbalance_ratio:.2f}\")"
   ]
  },
  {
   "cell_type": "markdown",
   "id": "1f6e1aed-4168-47f6-977f-8b62aac5350c",
   "metadata": {},
   "source": [
    "### Resample and Undersampling to Balance Class Distribution"
   ]
  },
  {
   "cell_type": "markdown",
   "id": "cd8ea428-1348-4038-a6c3-874f87d509e1",
   "metadata": {},
   "source": [
    "#### SMOTE "
   ]
  },
  {
   "cell_type": "code",
   "execution_count": 4,
   "id": "e1ffe1dd-0982-4427-b256-4ce620dd00f8",
   "metadata": {},
   "outputs": [],
   "source": [
    "X_scaled_resampled, y_scaled_resampled = SMOTE(sampling_strategy=0.5, random_state=42).fit_resample(X_train_scaled, y_train)"
   ]
  },
  {
   "cell_type": "code",
   "execution_count": 5,
   "id": "058c055e-9ebb-427b-b1bf-c35944ad876f",
   "metadata": {},
   "outputs": [],
   "source": [
    "X_unscaled_resampled, y_resampled = SMOTE(sampling_strategy=0.5, random_state=42).fit_resample(X_train_unscaled, y_train)"
   ]
  },
  {
   "cell_type": "markdown",
   "id": "0e695d67-47cc-4826-8800-b547e684cabf",
   "metadata": {},
   "source": [
    "#### Unersampling"
   ]
  },
  {
   "cell_type": "code",
   "execution_count": 8,
   "id": "aea601f1-e277-4866-b6ef-509efabc7800",
   "metadata": {},
   "outputs": [],
   "source": [
    "undersample = RandomUnderSampler(sampling_strategy=0.5, random_state=42)\n",
    "\n",
    "# Apply undersampling to training data\n",
    "X_train_resampled, y_train_resampled = undersample.fit_resample(X_train_scaled, y_train)"
   ]
  },
  {
   "cell_type": "code",
   "execution_count": 9,
   "id": "fbf7967c-8e4f-4ef7-bb87-dac6487218e0",
   "metadata": {},
   "outputs": [],
   "source": [
    "undersample = RandomUnderSampler(sampling_strategy=0.5, random_state=42)\n",
    "\n",
    "# Apply undersampling to training data\n",
    "X_train_resampled_unscaled, y_train_resampled_unscaled = undersample.fit_resample(X_train_unscaled, y_train)"
   ]
  },
  {
   "cell_type": "markdown",
   "id": "23247f0d-e87e-40bd-8db0-be59851eb7ea",
   "metadata": {},
   "source": [
    "### Logistic Regression Model\n",
    "\n",
    "First I trained all the models on the original data as a baseline. I then training the models using the resampled data (both oversampling and undersampling) to help with the class imbalance.  \n",
    "\n",
    "To evaluate my model, I will be focused on maximizing recall. I want to catch all legitimate goal-scoring chances, even at the risk of some false alarms.\n",
    "\n",
    "The goal is to use the model to uncover hidden offensive potential — e.g., finding players who create high-quality chances that others don’t finish often."
   ]
  },
  {
   "cell_type": "code",
   "execution_count": 10,
   "id": "70d7e4f7-ad70-4f51-9837-fd8884da0c23",
   "metadata": {},
   "outputs": [
    {
     "name": "stdout",
     "output_type": "stream",
     "text": [
      "              precision    recall  f1-score   support\n",
      "\n",
      "           0       0.96      0.77      0.86     11231\n",
      "           1       0.25      0.72      0.37      1160\n",
      "\n",
      "    accuracy                           0.77     12391\n",
      "   macro avg       0.61      0.75      0.61     12391\n",
      "weighted avg       0.90      0.77      0.81     12391\n",
      "\n",
      "ROC-AUC: 0.828552589968038\n"
     ]
    }
   ],
   "source": [
    "# Train the model\n",
    "log_model = LogisticRegression(max_iter=1000, class_weight='balanced')\n",
    "log_model.fit(X_train_scaled, y_train.values.ravel())\n",
    "\n",
    "# Predict and evaluate\n",
    "y_pred_log = log_model.predict(X_test_scaled)\n",
    "\n",
    "print(classification_report(y_test, y_pred_log))\n",
    "\n",
    "# ROC-AUC Score\n",
    "y_pred_proba_log = log_model.predict_proba(X_test_scaled)[:, 1]\n",
    "roc_auc_log = roc_auc_score(y_test, y_pred_proba_log)\n",
    "print(f\"ROC-AUC: {roc_auc_log}\")"
   ]
  },
  {
   "cell_type": "code",
   "execution_count": 11,
   "id": "96084b46-92bd-42a7-95b9-e2569c935aba",
   "metadata": {},
   "outputs": [
    {
     "data": {
      "text/plain": [
       "<sklearn.metrics._plot.confusion_matrix.ConfusionMatrixDisplay at 0x2227fdadfa0>"
      ]
     },
     "execution_count": 11,
     "metadata": {},
     "output_type": "execute_result"
    },
    {
     "data": {
      "image/png": "[encoded data removed]",
      "text/plain": [
       "<Figure size 640x480 with 2 Axes>"
      ]
     },
     "metadata": {},
     "output_type": "display_data"
    }
   ],
   "source": [
    "cm_log_model = confusion_matrix(y_pred_log, y_test)\n",
    "disp = ConfusionMatrixDisplay(confusion_matrix=cm_log_model)\n",
    "disp.plot(cmap=plt.cm.Blues)"
   ]
  },
  {
   "cell_type": "code",
   "execution_count": 12,
   "id": "a505bb11-d3df-418a-8454-5b053f14fb2b",
   "metadata": {},
   "outputs": [
    {
     "name": "stdout",
     "output_type": "stream",
     "text": [
      "              precision    recall  f1-score   support\n",
      "\n",
      "           0       0.96      0.77      0.86     11231\n",
      "           1       0.25      0.72      0.37      1160\n",
      "\n",
      "    accuracy                           0.77     12391\n",
      "   macro avg       0.61      0.75      0.61     12391\n",
      "weighted avg       0.90      0.77      0.81     12391\n",
      "\n",
      "ROC-AUC: 0.828552589968038\n"
     ]
    }
   ],
   "source": [
    "# Train the model\n",
    "log_model2 = LogisticRegression(max_iter=1000, class_weight='balanced')\n",
    "log_model2.fit(X_train_resampled, y_train_resampled.values.ravel())\n",
    "\n",
    "# Predict and evaluate\n",
    "y_pred_log2 = log_model2.predict(X_test_scaled)\n",
    "\n",
    "print(classification_report(y_test, y_pred_log2))\n",
    "\n",
    "# ROC-AUC Score\n",
    "y_pred_proba_log2 = log_model2.predict_proba(X_test_scaled)[:, 1]\n",
    "roc_auc_log2 = roc_auc_score(y_test, y_pred_proba_log2)\n",
    "print(f\"ROC-AUC: {roc_auc_log}\")"
   ]
  },
  {
   "cell_type": "code",
   "execution_count": 13,
   "id": "0b004eea-2cfe-4525-9158-2a82ddc3c745",
   "metadata": {},
   "outputs": [
    {
     "data": {
      "text/plain": [
       "<sklearn.metrics._plot.confusion_matrix.ConfusionMatrixDisplay at 0x22200e370b0>"
      ]
     },
     "execution_count": 13,
     "metadata": {},
     "output_type": "execute_result"
    },
    {
     "data": {
      "image/png": "[encoded data removed]",
      "text/plain": [
       "<Figure size 640x480 with 2 Axes>"
      ]
     },
     "metadata": {},
     "output_type": "display_data"
    }
   ],
   "source": [
    "cm_log_model2 = confusion_matrix(y_pred_log2, y_test)\n",
    "disp = ConfusionMatrixDisplay(confusion_matrix=cm_log_model2)\n",
    "disp.plot(cmap=plt.cm.Blues)"
   ]
  },
  {
   "cell_type": "code",
   "execution_count": 14,
   "id": "c3837b84-c970-41c2-8f5e-fa9b430eeff8",
   "metadata": {},
   "outputs": [
    {
     "name": "stdout",
     "output_type": "stream",
     "text": [
      "              precision    recall  f1-score   support\n",
      "\n",
      "           0       0.96      0.78      0.86     11231\n",
      "           1       0.25      0.72      0.37      1160\n",
      "\n",
      "    accuracy                           0.77     12391\n",
      "   macro avg       0.61      0.75      0.62     12391\n",
      "weighted avg       0.90      0.77      0.82     12391\n",
      "\n",
      "ROC-AUC: 0.828552589968038\n"
     ]
    }
   ],
   "source": [
    "# Train the model\n",
    "log_model3 = LogisticRegression(max_iter=1000, class_weight='balanced')\n",
    "log_model3.fit(X_scaled_resampled, y_scaled_resampled.values.ravel())\n",
    "\n",
    "# Predict and evaluate\n",
    "y_pred_log3 = log_model3.predict(X_test_scaled)\n",
    "\n",
    "print(classification_report(y_test, y_pred_log3))\n",
    "\n",
    "# ROC-AUC Score\n",
    "y_pred_proba_log3 = log_model3.predict_proba(X_test_scaled)[:, 1]\n",
    "roc_auc_log3 = roc_auc_score(y_test, y_pred_proba_log3)\n",
    "print(f\"ROC-AUC: {roc_auc_log}\")"
   ]
  },
  {
   "cell_type": "code",
   "execution_count": 15,
   "id": "c3e76b68-a0aa-41d1-8af6-ad0bc2cf91d5",
   "metadata": {},
   "outputs": [
    {
     "data": {
      "text/plain": [
       "<sklearn.metrics._plot.confusion_matrix.ConfusionMatrixDisplay at 0x22200cba3f0>"
      ]
     },
     "execution_count": 15,
     "metadata": {},
     "output_type": "execute_result"
    },
    {
     "data": {
      "image/png": "[encoded data removed]",
      "text/plain": [
       "<Figure size 640x480 with 2 Axes>"
      ]
     },
     "metadata": {},
     "output_type": "display_data"
    }
   ],
   "source": [
    "cm_log_model3 = confusion_matrix(y_pred_log3, y_test)\n",
    "disp = ConfusionMatrixDisplay(confusion_matrix=cm_log_model3)\n",
    "disp.plot(cmap=plt.cm.Blues)"
   ]
  },
  {
   "cell_type": "markdown",
   "id": "702d5162-2d46-4cd5-b9d2-ca1214052654",
   "metadata": {},
   "source": [
    "### Hyperparamater Tuning for Logistic Regression Model"
   ]
  },
  {
   "cell_type": "markdown",
   "id": "6ceb9849-d91a-4328-95b7-3eb7f5b59678",
   "metadata": {},
   "source": [
    "After getting a baseline for the logistic regression models, I used GridSearch to tune the hyperperameters to see if I could improve model perfomance. However, this was too resource heavy for my computer and I had to run it in Google Colab. "
   ]
  },
  {
   "cell_type": "code",
   "execution_count": null,
   "id": "f2f66982-cd07-41b4-8134-34652e67f8c6",
   "metadata": {},
   "outputs": [],
   "source": [
    "# Define hyperparameter grid\n",
    "param_grid = {\n",
    "    'C': [0.001, 0.01, 0.1, 1, 10, 100],  # Regularization strength\n",
    "    'penalty': ['l1', 'l2'],  # Lasso or Ridge\n",
    "    'solver': ['liblinear', 'saga']  # Required for L1 regularization\n",
    "}\n",
    "\n",
    "# Initialize model\n",
    "log_reg = LogisticRegression(max_iter=500, class_weight='balanced')\n",
    "\n",
    "# Perform GridSearchCV\n",
    "grid_search = GridSearchCV(log_reg, param_grid, scoring='f1', cv=5, n_jobs=-1, verbose=2)\n",
    "grid_search.fit(X_train_resampled_unscaled, y_train_resampled_unscaled)\n",
    "\n",
    "# Best Parameters\n",
    "print(\"Best Hyperparameters:\", grid_search.best_params_)\n",
    "\n",
    "# Best Model\n",
    "best_log_reg = grid_search.best_estimator_"
   ]
  },
  {
   "cell_type": "markdown",
   "id": "e725a7b6-c584-4d92-ace0-7a638cb1c6a9",
   "metadata": {},
   "source": [
    "### Random Forest Model"
   ]
  },
  {
   "cell_type": "markdown",
   "id": "9a353038-e934-479d-a20e-270cc7325819",
   "metadata": {},
   "source": [
    "Next, I explored Random Forest Model due to its ablity to handle non-linear relationships and outliers better than logistic regression. I repeated the same process with Random Forest as I did with Logistic Regression"
   ]
  },
  {
   "cell_type": "code",
   "execution_count": 16,
   "id": "3b560501-6bc9-4f9a-a569-4a2b04afafe1",
   "metadata": {},
   "outputs": [
    {
     "name": "stdout",
     "output_type": "stream",
     "text": [
      "              precision    recall  f1-score   support\n",
      "\n",
      "           0       0.92      1.00      0.96     11231\n",
      "           1       0.89      0.18      0.31      1160\n",
      "\n",
      "    accuracy                           0.92     12391\n",
      "   macro avg       0.91      0.59      0.63     12391\n",
      "weighted avg       0.92      0.92      0.90     12391\n",
      "\n",
      "ROC-AUC: 0.8314779520354684\n"
     ]
    }
   ],
   "source": [
    "# Train the model\n",
    "forest_model = RandomForestClassifier(n_estimators = 100,class_weight='balanced',random_state=42)\n",
    "forest_model.fit(X_train_unscaled, y_train.values.ravel())\n",
    "\n",
    "# Predict\n",
    "y_pred_forest = forest_model.predict(X_test_unscaled)\n",
    "y_pred_proba_forest = forest_model.predict_proba(X_test_unscaled)[:, 1] \n",
    "\n",
    "# Evaluate\n",
    "print(classification_report(y_test, y_pred_forest))\n",
    "print(\"ROC-AUC:\", roc_auc_score(y_test, y_pred_proba_forest))"
   ]
  },
  {
   "cell_type": "code",
   "execution_count": 17,
   "id": "a5735699-0b14-4830-9e96-9094a372801d",
   "metadata": {},
   "outputs": [
    {
     "data": {
      "text/plain": [
       "<sklearn.metrics._plot.confusion_matrix.ConfusionMatrixDisplay at 0x22203a56b10>"
      ]
     },
     "execution_count": 17,
     "metadata": {},
     "output_type": "execute_result"
    },
    {
     "data": {
      "image/png": "[encoded data removed]",
      "text/plain": [
       "<Figure size 640x480 with 2 Axes>"
      ]
     },
     "metadata": {},
     "output_type": "display_data"
    }
   ],
   "source": [
    "cm_forest_model = confusion_matrix(y_pred_forest, y_test)\n",
    "disp = ConfusionMatrixDisplay(confusion_matrix=cm_forest_model)\n",
    "disp.plot(cmap=plt.cm.Blues)"
   ]
  },
  {
   "cell_type": "code",
   "execution_count": 18,
   "id": "80ee7bd8-c408-4102-bf4e-6bd2af85f4d2",
   "metadata": {},
   "outputs": [
    {
     "name": "stdout",
     "output_type": "stream",
     "text": [
      "              precision    recall  f1-score   support\n",
      "\n",
      "           0       0.96      0.77      0.86     11231\n",
      "           1       0.25      0.72      0.37      1160\n",
      "\n",
      "    accuracy                           0.77     12391\n",
      "   macro avg       0.61      0.75      0.61     12391\n",
      "weighted avg       0.90      0.77      0.81     12391\n",
      "\n"
     ]
    }
   ],
   "source": [
    "forest_model2 = RandomForestClassifier(n_estimators = 100,random_state=42)\n",
    "forest_model2.fit(X_train_resampled, y_train_resampled.values.ravel())\n",
    "\n",
    "y_pred_forest2 = log_model2.predict(X_test_scaled)\n",
    "\n",
    "print(classification_report(y_test, y_pred_forest2))"
   ]
  },
  {
   "cell_type": "code",
   "execution_count": 19,
   "id": "0f91e229-c3b9-4703-9bbf-d00661ee07e2",
   "metadata": {},
   "outputs": [
    {
     "data": {
      "text/plain": [
       "<sklearn.metrics._plot.confusion_matrix.ConfusionMatrixDisplay at 0x22221d75a30>"
      ]
     },
     "execution_count": 19,
     "metadata": {},
     "output_type": "execute_result"
    },
    {
     "data": {
      "image/png": "[encoded data removed]",
      "text/plain": [
       "<Figure size 640x480 with 2 Axes>"
      ]
     },
     "metadata": {},
     "output_type": "display_data"
    }
   ],
   "source": [
    "cm_forest_model2 = confusion_matrix(y_pred_forest2, y_test)\n",
    "disp = ConfusionMatrixDisplay(confusion_matrix=cm_forest_model2)\n",
    "disp.plot(cmap=plt.cm.Blues)"
   ]
  },
  {
   "cell_type": "code",
   "execution_count": 21,
   "id": "942fbf19-33af-4ca8-893e-c2a39d30c2d9",
   "metadata": {},
   "outputs": [
    {
     "name": "stdout",
     "output_type": "stream",
     "text": [
      "              precision    recall  f1-score   support\n",
      "\n",
      "           0       0.96      0.78      0.86     11231\n",
      "           1       0.25      0.72      0.37      1160\n",
      "\n",
      "    accuracy                           0.77     12391\n",
      "   macro avg       0.61      0.75      0.62     12391\n",
      "weighted avg       0.90      0.77      0.82     12391\n",
      "\n"
     ]
    }
   ],
   "source": [
    "forest_model3 = RandomForestClassifier(n_estimators = 100,random_state=42)\n",
    "forest_model3.fit(X_unscaled_resampled, y_resampled.values.ravel())\n",
    "\n",
    "y_pred_forest3 = log_model3.predict(X_test_scaled)\n",
    "\n",
    "print(classification_report(y_test, y_pred_forest3))"
   ]
  },
  {
   "cell_type": "code",
   "execution_count": 22,
   "id": "64ea009a-c5e2-4fe6-890a-f78d1353fb6a",
   "metadata": {},
   "outputs": [
    {
     "data": {
      "text/plain": [
       "<sklearn.metrics._plot.confusion_matrix.ConfusionMatrixDisplay at 0x22200d13f80>"
      ]
     },
     "execution_count": 22,
     "metadata": {},
     "output_type": "execute_result"
    },
    {
     "data": {
      "image/png": "[encoded data removed]",
      "text/plain": [
       "<Figure size 640x480 with 2 Axes>"
      ]
     },
     "metadata": {},
     "output_type": "display_data"
    }
   ],
   "source": [
    "cm_forest_model3 = confusion_matrix(y_pred_forest3, y_test)\n",
    "disp = ConfusionMatrixDisplay(confusion_matrix=cm_forest_model3)\n",
    "disp.plot(cmap=plt.cm.Blues)"
   ]
  },
  {
   "cell_type": "markdown",
   "id": "ecf250a0-2dbc-4982-8b78-2bd86d8beefe",
   "metadata": {},
   "source": [
    "### Random Forest Hyperparameter Tuning"
   ]
  },
  {
   "cell_type": "code",
   "execution_count": 77,
   "id": "03378921-3200-4873-9f0f-14e95da97f05",
   "metadata": {},
   "outputs": [
    {
     "name": "stdout",
     "output_type": "stream",
     "text": [
      "Fitting 5 folds for each of 20 candidates, totalling 100 fits\n"
     ]
    },
    {
     "name": "stderr",
     "output_type": "stream",
     "text": [
      "C:\\Users\\Travi\\AppData\\Local\\Programs\\Python\\Python312\\Lib\\site-packages\\sklearn\\base.py:1474: DataConversionWarning: A column-vector y was passed when a 1d array was expected. Please change the shape of y to (n_samples,), for example using ravel().\n",
      "  return fit_method(estimator, *args, **kwargs)\n"
     ]
    },
    {
     "name": "stdout",
     "output_type": "stream",
     "text": [
      "Best Hyperparameters: {'n_estimators': 100, 'min_samples_split': 10, 'min_samples_leaf': 4, 'max_features': 'sqrt', 'max_depth': 20}\n"
     ]
    }
   ],
   "source": [
    "# Define hyperparameter grid\n",
    "param_dist = {\n",
    "    'n_estimators': [100, 200, 500],  # Number of trees\n",
    "    'max_depth': [5, 10, 20, None],  # Tree depth\n",
    "    'min_samples_split': [2, 5, 10],  # Minimum samples to split\n",
    "    'min_samples_leaf': [1, 2, 4],  # Minimum samples in a leaf\n",
    "    'max_features': ['sqrt', 'log2', None]  # Feature selection\n",
    "}\n",
    "\n",
    "# Initialize model\n",
    "rf_model = RandomForestClassifier(class_weight='balanced', random_state=42)\n",
    "\n",
    "# Perform RandomizedSearchCV\n",
    "random_search = RandomizedSearchCV(rf_model, param_distributions=param_dist, \n",
    "                                   n_iter=20, scoring='f1', cv=5, n_jobs=-1, verbose=2, random_state=42)\n",
    "random_search.fit(X_train_resampled_unscaled, y_train_resampled_unscaled)\n",
    "\n",
    "# Best Parameters\n",
    "print(\"Best Hyperparameters:\", random_search.best_params_)\n",
    "\n",
    "# Best Model\n",
    "best_rf_model = random_search.best_estimator_"
   ]
  },
  {
   "cell_type": "code",
   "execution_count": 23,
   "id": "3c2e788e-92a5-4002-8d9f-75402155cea9",
   "metadata": {},
   "outputs": [
    {
     "name": "stdout",
     "output_type": "stream",
     "text": [
      "              precision    recall  f1-score   support\n",
      "\n",
      "           0       0.97      0.77      0.86     11231\n",
      "           1       0.25      0.74      0.37      1160\n",
      "\n",
      "    accuracy                           0.77     12391\n",
      "   macro avg       0.61      0.76      0.61     12391\n",
      "weighted avg       0.90      0.77      0.81     12391\n",
      "\n",
      "ROC-AUC: 0.8391275380028799\n"
     ]
    }
   ],
   "source": [
    "# Train the model\n",
    "forest_model4 = RandomForestClassifier(n_estimators=100, min_samples_split=10, class_weight='balanced', min_samples_leaf=4, max_features='sqrt', max_depth=20, random_state=42)\n",
    "forest_model4.fit(X_train_resampled_unscaled, y_train_resampled_unscaled.values.ravel())\n",
    "\n",
    "# Predict\n",
    "y_pred_forest4 = forest_model4.predict(X_test_unscaled)\n",
    "y_pred_proba_forest4 = forest_model4.predict_proba(X_test_unscaled)[:, 1]  # For ROC-AUC\n",
    "\n",
    "# Evaluate\n",
    "print(classification_report(y_test, y_pred_forest4))\n",
    "print(\"ROC-AUC:\", roc_auc_score(y_test, y_pred_proba_forest4))"
   ]
  },
  {
   "cell_type": "code",
   "execution_count": 24,
   "id": "b9473a72-5a11-4583-b6f9-0bcb97a87aeb",
   "metadata": {},
   "outputs": [
    {
     "data": {
      "text/plain": [
       "<sklearn.metrics._plot.confusion_matrix.ConfusionMatrixDisplay at 0x22200eda4b0>"
      ]
     },
     "execution_count": 24,
     "metadata": {},
     "output_type": "execute_result"
    },
    {
     "data": {
      "image/png": "[encoded data removed]",
      "text/plain": [
       "<Figure size 640x480 with 2 Axes>"
      ]
     },
     "metadata": {},
     "output_type": "display_data"
    }
   ],
   "source": [
    "cm_forest_model4 = confusion_matrix(y_pred_forest3, y_test)\n",
    "disp = ConfusionMatrixDisplay(confusion_matrix=cm_forest_model4)\n",
    "disp.plot(cmap=plt.cm.Blues)"
   ]
  },
  {
   "cell_type": "markdown",
   "id": "5a772ecb-ca39-4c81-8d31-8be00d6f8cdb",
   "metadata": {},
   "source": [
    "### XGBoost Model"
   ]
  },
  {
   "cell_type": "markdown",
   "id": "35944b7e-a78a-448a-bcf7-e913ed63e271",
   "metadata": {},
   "source": [
    "The last model that I tested was XGBoost. I choose this model because of its predictive performance, especially on large and complex datasets, and its ability to handle imbalanced data better than Random Forest. "
   ]
  },
  {
   "cell_type": "code",
   "execution_count": 27,
   "id": "4ad526ca-f209-407e-8743-37504eb725c9",
   "metadata": {},
   "outputs": [
    {
     "name": "stdout",
     "output_type": "stream",
     "text": [
      "              precision    recall  f1-score   support\n",
      "\n",
      "           0       0.98      0.51      0.67     11231\n",
      "           1       0.16      0.92      0.27      1160\n",
      "\n",
      "    accuracy                           0.55     12391\n",
      "   macro avg       0.57      0.71      0.47     12391\n",
      "weighted avg       0.91      0.55      0.63     12391\n",
      "\n"
     ]
    }
   ],
   "source": [
    "from xgboost import XGBClassifier\n",
    "\n",
    "# # Train the model\n",
    "xgb_model = XGBClassifier (eval_metric='logloss', scale_pos_weight=5)\n",
    "xgb_model.fit(X_train_resampled_unscaled, y_train_resampled_unscaled)\n",
    "\n",
    "# Evaluate\n",
    "y_pred_xgb = xgb_model.predict(X_test_unscaled)\n",
    "print(classification_report(y_test, y_pred_xgb))\n",
    "\n",
    "y_pred_proba_xgb = xgb_model.predict_proba(X_test_unscaled)[:, 1]  # For ROC-AUC"
   ]
  },
  {
   "cell_type": "code",
   "execution_count": 28,
   "id": "a726dbbb-394a-4655-ab8e-fb53cc566cd5",
   "metadata": {},
   "outputs": [
    {
     "data": {
      "text/plain": [
       "<sklearn.metrics._plot.confusion_matrix.ConfusionMatrixDisplay at 0x22203a2a8d0>"
      ]
     },
     "execution_count": 28,
     "metadata": {},
     "output_type": "execute_result"
    },
    {
     "data": {
      "image/png": "[encoded data removed]",
      "text/plain": [
       "<Figure size 640x480 with 2 Axes>"
      ]
     },
     "metadata": {},
     "output_type": "display_data"
    }
   ],
   "source": [
    "cm_xgb = confusion_matrix(y_pred_xgb, y_test)\n",
    "disp = ConfusionMatrixDisplay(confusion_matrix=cm_xgb)\n",
    "disp.plot(cmap=plt.cm.Blues)"
   ]
  },
  {
   "cell_type": "code",
   "execution_count": 112,
   "id": "0af987d2-4b26-4156-afc3-569e260f22c1",
   "metadata": {},
   "outputs": [
    {
     "name": "stdout",
     "output_type": "stream",
     "text": [
      "              precision    recall  f1-score   support\n",
      "\n",
      "           0       0.95      0.88      0.92     11231\n",
      "           1       0.34      0.58      0.43      1160\n",
      "\n",
      "    accuracy                           0.86     12391\n",
      "   macro avg       0.65      0.73      0.67     12391\n",
      "weighted avg       0.90      0.86      0.87     12391\n",
      "\n"
     ]
    }
   ],
   "source": [
    "xgb_model2 = XGBClassifier (eval_metric='logloss', scale_pos_weight=5)\n",
    "xgb_model2.fit(X_train_unscaled, y_train)\n",
    "\n",
    "# Evaluate\n",
    "y_pred_xgb2 = xgb_model2.predict(X_test_unscaled)\n",
    "print(classification_report(y_test, y_pred_xgb2))"
   ]
  },
  {
   "cell_type": "code",
   "execution_count": 113,
   "id": "e7751cb4-0df0-4b12-8719-79d3a8ddea07",
   "metadata": {},
   "outputs": [
    {
     "data": {
      "text/plain": [
       "<sklearn.metrics._plot.confusion_matrix.ConfusionMatrixDisplay at 0x2231d5b7890>"
      ]
     },
     "execution_count": 113,
     "metadata": {},
     "output_type": "execute_result"
    },
    {
     "data": {
      "image/png": "[encoded data removed]",
      "text/plain": [
       "<Figure size 640x480 with 2 Axes>"
      ]
     },
     "metadata": {},
     "output_type": "display_data"
    }
   ],
   "source": [
    "cm_xgb2 = confusion_matrix(y_pred_xgb2, y_test)\n",
    "disp = ConfusionMatrixDisplay(confusion_matrix=cm_xgb2)\n",
    "disp.plot(cmap=plt.cm.Blues)"
   ]
  },
  {
   "cell_type": "code",
   "execution_count": 114,
   "id": "47a196ed-ca75-401b-8364-feba7ab2b183",
   "metadata": {},
   "outputs": [
    {
     "name": "stdout",
     "output_type": "stream",
     "text": [
      "              precision    recall  f1-score   support\n",
      "\n",
      "           0       0.96      0.88      0.91     11231\n",
      "           1       0.33      0.60      0.43      1160\n",
      "\n",
      "    accuracy                           0.85     12391\n",
      "   macro avg       0.64      0.74      0.67     12391\n",
      "weighted avg       0.90      0.85      0.87     12391\n",
      "\n"
     ]
    }
   ],
   "source": [
    "xgb_model3 = XGBClassifier (eval_metric='logloss', scale_pos_weight=5)\n",
    "xgb_model3.fit(X_unscaled_resampled, y_resampled)\n",
    "\n",
    "# Evaluate\n",
    "y_pred_xgb3 = xgb_model3.predict(X_test_unscaled)\n",
    "print(classification_report(y_test, y_pred_xgb3))"
   ]
  },
  {
   "cell_type": "code",
   "execution_count": 115,
   "id": "83b76393-6cc0-4519-88d8-16d95719f33d",
   "metadata": {},
   "outputs": [
    {
     "data": {
      "text/plain": [
       "<sklearn.metrics._plot.confusion_matrix.ConfusionMatrixDisplay at 0x2221f14c470>"
      ]
     },
     "execution_count": 115,
     "metadata": {},
     "output_type": "execute_result"
    },
    {
     "data": {
      "image/png": "[encoded data removed]",
      "text/plain": [
       "<Figure size 640x480 with 2 Axes>"
      ]
     },
     "metadata": {},
     "output_type": "display_data"
    }
   ],
   "source": [
    "cm_xgb3 = confusion_matrix(y_pred_xgb3, y_test)\n",
    "disp = ConfusionMatrixDisplay(confusion_matrix=cm_xgb3)\n",
    "disp.plot(cmap=plt.cm.Blues)"
   ]
  },
  {
   "cell_type": "markdown",
   "id": "73072b5e-32eb-45dd-ba6f-eb34fdfa65bd",
   "metadata": {},
   "source": [
    "### XGBoost Hyperparameter Tuning"
   ]
  },
  {
   "cell_type": "code",
   "execution_count": 37,
   "id": "0fba5083-2690-46ba-92f5-4dd5775803e9",
   "metadata": {},
   "outputs": [
    {
     "name": "stdout",
     "output_type": "stream",
     "text": [
      "Fitting 5 folds for each of 20 candidates, totalling 100 fits\n",
      "Best Hyperparameters: {'scale_pos_weight': 5, 'n_estimators': 1000, 'min_child_weight': 5, 'max_depth': 5, 'learning_rate': 0.1, 'lambda': 10, 'gamma': 0, 'alpha': 10}\n",
      "Classification Report:\n",
      "               precision    recall  f1-score   support\n",
      "\n",
      "           0       0.95      0.89      0.92     11231\n",
      "           1       0.35      0.58      0.44      1160\n",
      "\n",
      "    accuracy                           0.86     12391\n",
      "   macro avg       0.65      0.73      0.68     12391\n",
      "weighted avg       0.90      0.86      0.88     12391\n",
      "\n"
     ]
    }
   ],
   "source": [
    "param_grid = {\n",
    "    'n_estimators': [100, 300, 500, 1000],\n",
    "    'learning_rate': [0.01, 0.05, 0.1, 0.3],\n",
    "    'max_depth': [3, 5, 10],\n",
    "    'min_child_weight': [1, 3, 5, 7, 10],\n",
    "    'gamma': [0, 0.1, 0.5, 1],\n",
    "    'lambda': [0, 1, 5, 10],\n",
    "    'alpha' : [0, 0.1, 1, 5, 10],\n",
    "    'scale_pos_weight': [1,5,7,imbalance_ratio]  # Handles class imbalance\n",
    "}\n",
    "\n",
    "# Initialize XGBoost Model\n",
    "xgb2 = XGBClassifier(random_state=42, eval_metric=\"logloss\")\n",
    "\n",
    "# Perform RandomizedSearchCV\n",
    "xgb_cv2 = RandomizedSearchCV(xgb2, param_distributions=param_grid, \n",
    "                            n_iter=20, scoring='f1', cv=5, verbose=1, random_state=42, n_jobs=-1)\n",
    "xgb_cv2.fit(X_train_unscaled, y_train)\n",
    "\n",
    "# Print Best Parameters\n",
    "print(\"Best Hyperparameters:\", xgb_cv2.best_params_)\n",
    "\n",
    "# Evaluate Model on Test Data\n",
    "best_xgb2 = xgb_cv2.best_estimator_\n",
    "y_pred2 = best_xgb2.predict(X_test_unscaled)\n",
    "\n",
    "# Display Classification Report\n",
    "print(\"Classification Report:\\n\", classification_report(y_test, y_pred2))"
   ]
  },
  {
   "cell_type": "markdown",
   "id": "85f88703-4aea-4692-92b0-d75cea9b947e",
   "metadata": {},
   "source": [
    "I then tested the same models using the tuned hyperparameters"
   ]
  },
  {
   "cell_type": "code",
   "execution_count": 116,
   "id": "203b8a12-4e11-4b2a-ae1c-75368285ea84",
   "metadata": {},
   "outputs": [
    {
     "name": "stdout",
     "output_type": "stream",
     "text": [
      "              precision    recall  f1-score   support\n",
      "\n",
      "           0       0.98      0.58      0.73     11231\n",
      "           1       0.18      0.89      0.30      1160\n",
      "\n",
      "    accuracy                           0.61     12391\n",
      "   macro avg       0.58      0.73      0.51     12391\n",
      "weighted avg       0.91      0.61      0.69     12391\n",
      "\n"
     ]
    }
   ],
   "source": [
    "xgb_model4 = XGBClassifier (eval_metric='logloss', scale_pos_weight=4, n_estimators=1000, min_child_weight=5, max_depth=5, learning_rate=0.1,\n",
    "                            gamma=0, alpha=1)\n",
    "xgb_model4.fit(X_train_resampled_unscaled, y_train_resampled_unscaled)\n",
    "\n",
    "# Evaluate\n",
    "y_pred_xgb4 = xgb_model4.predict(X_test_unscaled)\n",
    "print(classification_report(y_test, y_pred_xgb4))"
   ]
  },
  {
   "cell_type": "code",
   "execution_count": 33,
   "id": "dd16b8c1-b00e-4bad-867d-3d289dcb6d28",
   "metadata": {
    "scrolled": true
   },
   "outputs": [
    {
     "data": {
      "text/plain": [
       "<sklearn.metrics._plot.confusion_matrix.ConfusionMatrixDisplay at 0x22221e2ff80>"
      ]
     },
     "execution_count": 33,
     "metadata": {},
     "output_type": "execute_result"
    },
    {
     "data": {
      "image/png": "[encoded data removed]",
      "text/plain": [
       "<Figure size 640x480 with 2 Axes>"
      ]
     },
     "metadata": {},
     "output_type": "display_data"
    }
   ],
   "source": [
    "cm_xgb4 = confusion_matrix(y_pred_xgb4, y_test)\n",
    "disp = ConfusionMatrixDisplay(confusion_matrix=cm_xgb4)\n",
    "disp.plot(cmap=plt.cm.Blues)"
   ]
  },
  {
   "cell_type": "code",
   "execution_count": 34,
   "id": "e1617d7b-ab7a-4d9f-9977-659ac64baab0",
   "metadata": {},
   "outputs": [
    {
     "name": "stdout",
     "output_type": "stream",
     "text": [
      "              precision    recall  f1-score   support\n",
      "\n",
      "           0       0.95      0.88      0.92     11231\n",
      "           1       0.34      0.59      0.44      1160\n",
      "\n",
      "    accuracy                           0.86     12391\n",
      "   macro avg       0.65      0.74      0.68     12391\n",
      "weighted avg       0.90      0.86      0.87     12391\n",
      "\n"
     ]
    }
   ],
   "source": [
    "xgb_model5 = XGBClassifier (eval_metric='logloss', scale_pos_weight=5, n_estimators=1000, min_child_weight=5, max_depth=5, learning_rate=0.1,\n",
    "                            gamma=0, alpha=1)\n",
    "xgb_model5.fit(X_unscaled_resampled, y_resampled)\n",
    "\n",
    "# Evaluate\n",
    "y_pred_xgb5 = xgb_model5.predict(X_test_unscaled)\n",
    "print(classification_report(y_test, y_pred_xgb5))"
   ]
  },
  {
   "cell_type": "code",
   "execution_count": 35,
   "id": "5ff8f54c-b527-4daf-97dd-5e104b498f23",
   "metadata": {},
   "outputs": [
    {
     "data": {
      "text/plain": [
       "<sklearn.metrics._plot.confusion_matrix.ConfusionMatrixDisplay at 0x22221db16a0>"
      ]
     },
     "execution_count": 35,
     "metadata": {},
     "output_type": "execute_result"
    },
    {
     "data": {
      "image/png": "[encoded data removed]",
      "text/plain": [
       "<Figure size 640x480 with 2 Axes>"
      ]
     },
     "metadata": {},
     "output_type": "display_data"
    }
   ],
   "source": [
    "cm_xgb5 = confusion_matrix(y_pred_xgb5, y_test)\n",
    "disp = ConfusionMatrixDisplay(confusion_matrix=cm_xgb5)\n",
    "disp.plot(cmap=plt.cm.Blues)"
   ]
  },
  {
   "cell_type": "code",
   "execution_count": 36,
   "id": "acf56fbb-424f-471a-9659-336b5794c0be",
   "metadata": {},
   "outputs": [
    {
     "name": "stdout",
     "output_type": "stream",
     "text": [
      "              precision    recall  f1-score   support\n",
      "\n",
      "           0       0.95      0.88      0.92     11231\n",
      "           1       0.34      0.58      0.43      1160\n",
      "\n",
      "    accuracy                           0.85     12391\n",
      "   macro avg       0.65      0.73      0.67     12391\n",
      "weighted avg       0.90      0.85      0.87     12391\n",
      "\n"
     ]
    }
   ],
   "source": [
    "xgb_model6 = XGBClassifier (eval_metric='logloss', scale_pos_weight=5, n_estimators=1000, min_child_weight=5, max_depth=5, learning_rate=0.1,\n",
    "                            gamma=0, alpha=10)\n",
    "xgb_model6.fit(X_unscaled_resampled, y_resampled)\n",
    "\n",
    "# Evaluate\n",
    "y_pred_xgb6 = xgb_model6.predict(X_test_unscaled)\n",
    "print(classification_report(y_test, y_pred_xgb6))"
   ]
  },
  {
   "cell_type": "code",
   "execution_count": 38,
   "id": "af0bdf91-1312-4011-a955-7ebae37482c3",
   "metadata": {},
   "outputs": [
    {
     "data": {
      "text/plain": [
       "<sklearn.metrics._plot.confusion_matrix.ConfusionMatrixDisplay at 0x22200edb530>"
      ]
     },
     "execution_count": 38,
     "metadata": {},
     "output_type": "execute_result"
    },
    {
     "data": {
      "image/png": "[encoded data removed]",
      "text/plain": [
       "<Figure size 640x480 with 2 Axes>"
      ]
     },
     "metadata": {},
     "output_type": "display_data"
    }
   ],
   "source": [
    "cm_xgb6 = confusion_matrix(y_pred_xgb6, y_test)\n",
    "disp = ConfusionMatrixDisplay(confusion_matrix=cm_xgb6)\n",
    "disp.plot(cmap=plt.cm.Blues)"
   ]
  },
  {
   "cell_type": "markdown",
   "id": "c1103d8a-ef72-4095-9228-a3e21a72a0db",
   "metadata": {},
   "source": [
    "# Aggretate Predictions by Player"
   ]
  },
  {
   "cell_type": "markdown",
   "id": "1fcf120d-31e9-40ee-9872-fef40122360b",
   "metadata": {},
   "source": [
    "Now that I have my trained models, I need to aggregate the goal predictions by player since out goal is to predict a players goals for the next season.  First, I started by loading the shot data from 2023 which was not included in the training data. Training data only went to 2022. "
   ]
  },
  {
   "cell_type": "code",
   "execution_count": 117,
   "id": "63bfa9c2-173f-4215-a97e-72efa2644352",
   "metadata": {},
   "outputs": [],
   "source": [
    "test1 = pd.read_csv(r\"C:\\Users\\Travi\\OneDrive\\Documents\\GitHub\\Springboard-Data-Science-Capstone-Project-2\\nhl data\\shots_2023.csv\")"
   ]
  },
  {
   "cell_type": "code",
   "execution_count": 85,
   "id": "0e87e892-702a-4fbf-bc7e-bd84060570df",
   "metadata": {},
   "outputs": [
    {
     "data": {
      "text/html": [
       "<div>\n",
       "<style scoped>\n",
       "    .dataframe tbody tr th:only-of-type {\n",
       "        vertical-align: middle;\n",
       "    }\n",
       "\n",
       "    .dataframe tbody tr th {\n",
       "        vertical-align: top;\n",
       "    }\n",
       "\n",
       "    .dataframe thead th {\n",
       "        text-align: right;\n",
       "    }\n",
       "</style>\n",
       "<table border=\"1\" class=\"dataframe\">\n",
       "  <thead>\n",
       "    <tr style=\"text-align: right;\">\n",
       "      <th></th>\n",
       "      <th>index</th>\n",
       "      <th>shotID</th>\n",
       "      <th>awayEmptyNet</th>\n",
       "      <th>awayPenalty1Length</th>\n",
       "      <th>awaySkatersOnIce</th>\n",
       "      <th>awayTeamCode</th>\n",
       "      <th>distanceFromLastEvent</th>\n",
       "      <th>game_id</th>\n",
       "      <th>goal</th>\n",
       "      <th>homeEmptyNet</th>\n",
       "      <th>...</th>\n",
       "      <th>teamCode</th>\n",
       "      <th>timeSinceFaceoff</th>\n",
       "      <th>timeSinceLastEvent</th>\n",
       "      <th>xFroze</th>\n",
       "      <th>xGoal</th>\n",
       "      <th>xPlayContinuedInZone</th>\n",
       "      <th>xPlayContinuedOutsideZone</th>\n",
       "      <th>xPlayStopped</th>\n",
       "      <th>xRebound</th>\n",
       "      <th>xShotWasOnGoal</th>\n",
       "    </tr>\n",
       "  </thead>\n",
       "  <tbody>\n",
       "    <tr>\n",
       "      <th>0</th>\n",
       "      <td>0</td>\n",
       "      <td>0</td>\n",
       "      <td>0</td>\n",
       "      <td>0</td>\n",
       "      <td>5</td>\n",
       "      <td>NSH</td>\n",
       "      <td>56.035702904499999022</td>\n",
       "      <td>20001</td>\n",
       "      <td>0</td>\n",
       "      <td>0</td>\n",
       "      <td>...</td>\n",
       "      <td>TBL</td>\n",
       "      <td>26</td>\n",
       "      <td>3</td>\n",
       "      <td>0.249174000000000007</td>\n",
       "      <td>0.035813299999999999</td>\n",
       "      <td>0.379309999999999981</td>\n",
       "      <td>0.277142999999999973</td>\n",
       "      <td>0.022743900000000001</td>\n",
       "      <td>0.035816000000000001</td>\n",
       "      <td>0.751319999999999988</td>\n",
       "    </tr>\n",
       "    <tr>\n",
       "      <th>1</th>\n",
       "      <td>1</td>\n",
       "      <td>1</td>\n",
       "      <td>0</td>\n",
       "      <td>0</td>\n",
       "      <td>5</td>\n",
       "      <td>NSH</td>\n",
       "      <td>40.496913462599998468</td>\n",
       "      <td>20001</td>\n",
       "      <td>0</td>\n",
       "      <td>0</td>\n",
       "      <td>...</td>\n",
       "      <td>TBL</td>\n",
       "      <td>35</td>\n",
       "      <td>9</td>\n",
       "      <td>0.107944999999999999</td>\n",
       "      <td>0.057704999999999999</td>\n",
       "      <td>0.464357999999999993</td>\n",
       "      <td>0.298119000000000023</td>\n",
       "      <td>0.020588100000000002</td>\n",
       "      <td>0.051284499999999997</td>\n",
       "      <td>0.589712000000000014</td>\n",
       "    </tr>\n",
       "    <tr>\n",
       "      <th>2</th>\n",
       "      <td>2</td>\n",
       "      <td>2</td>\n",
       "      <td>0</td>\n",
       "      <td>0</td>\n",
       "      <td>5</td>\n",
       "      <td>NSH</td>\n",
       "      <td>120.432553738999999382</td>\n",
       "      <td>20001</td>\n",
       "      <td>0</td>\n",
       "      <td>0</td>\n",
       "      <td>...</td>\n",
       "      <td>TBL</td>\n",
       "      <td>72</td>\n",
       "      <td>11</td>\n",
       "      <td>0.236192999999999986</td>\n",
       "      <td>0.016126399999999999</td>\n",
       "      <td>0.390417000000000014</td>\n",
       "      <td>0.301375000000000004</td>\n",
       "      <td>0.025620500000000001</td>\n",
       "      <td>0.030268600000000000</td>\n",
       "      <td>0.785765000000000047</td>\n",
       "    </tr>\n",
       "    <tr>\n",
       "      <th>3</th>\n",
       "      <td>3</td>\n",
       "      <td>3</td>\n",
       "      <td>0</td>\n",
       "      <td>0</td>\n",
       "      <td>5</td>\n",
       "      <td>NSH</td>\n",
       "      <td>21.213203435600000546</td>\n",
       "      <td>20001</td>\n",
       "      <td>0</td>\n",
       "      <td>0</td>\n",
       "      <td>...</td>\n",
       "      <td>TBL</td>\n",
       "      <td>68</td>\n",
       "      <td>32</td>\n",
       "      <td>0.198635000000000006</td>\n",
       "      <td>0.016796700000000001</td>\n",
       "      <td>0.438051999999999997</td>\n",
       "      <td>0.291723999999999983</td>\n",
       "      <td>0.021107399999999998</td>\n",
       "      <td>0.033685500000000000</td>\n",
       "      <td>0.724470999999999976</td>\n",
       "    </tr>\n",
       "    <tr>\n",
       "      <th>4</th>\n",
       "      <td>4</td>\n",
       "      <td>4</td>\n",
       "      <td>0</td>\n",
       "      <td>0</td>\n",
       "      <td>5</td>\n",
       "      <td>NSH</td>\n",
       "      <td>129.799845916999998963</td>\n",
       "      <td>20001</td>\n",
       "      <td>0</td>\n",
       "      <td>0</td>\n",
       "      <td>...</td>\n",
       "      <td>NSH</td>\n",
       "      <td>122</td>\n",
       "      <td>19</td>\n",
       "      <td>0.188582000000000000</td>\n",
       "      <td>0.008708779999999999</td>\n",
       "      <td>0.406287999999999982</td>\n",
       "      <td>0.349752000000000007</td>\n",
       "      <td>0.019523400000000000</td>\n",
       "      <td>0.027146199999999999</td>\n",
       "      <td>0.727481000000000044</td>\n",
       "    </tr>\n",
       "    <tr>\n",
       "      <th>...</th>\n",
       "      <td>...</td>\n",
       "      <td>...</td>\n",
       "      <td>...</td>\n",
       "      <td>...</td>\n",
       "      <td>...</td>\n",
       "      <td>...</td>\n",
       "      <td>...</td>\n",
       "      <td>...</td>\n",
       "      <td>...</td>\n",
       "      <td>...</td>\n",
       "      <td>...</td>\n",
       "      <td>...</td>\n",
       "      <td>...</td>\n",
       "      <td>...</td>\n",
       "      <td>...</td>\n",
       "      <td>...</td>\n",
       "      <td>...</td>\n",
       "      <td>...</td>\n",
       "      <td>...</td>\n",
       "      <td>...</td>\n",
       "      <td>...</td>\n",
       "    </tr>\n",
       "    <tr>\n",
       "      <th>122467</th>\n",
       "      <td>122467</td>\n",
       "      <td>76</td>\n",
       "      <td>0</td>\n",
       "      <td>0</td>\n",
       "      <td>5</td>\n",
       "      <td>EDM</td>\n",
       "      <td>17.262676501600001444</td>\n",
       "      <td>30417</td>\n",
       "      <td>0</td>\n",
       "      <td>0</td>\n",
       "      <td>...</td>\n",
       "      <td>EDM</td>\n",
       "      <td>39</td>\n",
       "      <td>30</td>\n",
       "      <td>0.138670999999999989</td>\n",
       "      <td>0.167788999999999994</td>\n",
       "      <td>0.325660999999999978</td>\n",
       "      <td>0.279878000000000016</td>\n",
       "      <td>0.022867400000000000</td>\n",
       "      <td>0.065133399999999994</td>\n",
       "      <td>0.796395999999999993</td>\n",
       "    </tr>\n",
       "    <tr>\n",
       "      <th>122468</th>\n",
       "      <td>122468</td>\n",
       "      <td>77</td>\n",
       "      <td>0</td>\n",
       "      <td>0</td>\n",
       "      <td>5</td>\n",
       "      <td>EDM</td>\n",
       "      <td>21.470910553599999560</td>\n",
       "      <td>30417</td>\n",
       "      <td>0</td>\n",
       "      <td>0</td>\n",
       "      <td>...</td>\n",
       "      <td>EDM</td>\n",
       "      <td>64</td>\n",
       "      <td>11</td>\n",
       "      <td>0.130345999999999990</td>\n",
       "      <td>0.022553400000000001</td>\n",
       "      <td>0.437248999999999999</td>\n",
       "      <td>0.323969000000000007</td>\n",
       "      <td>0.023288300000000001</td>\n",
       "      <td>0.062594800000000006</td>\n",
       "      <td>0.716814999999999980</td>\n",
       "    </tr>\n",
       "    <tr>\n",
       "      <th>122469</th>\n",
       "      <td>122469</td>\n",
       "      <td>78</td>\n",
       "      <td>0</td>\n",
       "      <td>0</td>\n",
       "      <td>5</td>\n",
       "      <td>EDM</td>\n",
       "      <td>31.064449134000000186</td>\n",
       "      <td>30417</td>\n",
       "      <td>0</td>\n",
       "      <td>0</td>\n",
       "      <td>...</td>\n",
       "      <td>EDM</td>\n",
       "      <td>64</td>\n",
       "      <td>0</td>\n",
       "      <td>0.202368999999999993</td>\n",
       "      <td>0.502383000000000024</td>\n",
       "      <td>0.092293500000000001</td>\n",
       "      <td>0.031396500000000001</td>\n",
       "      <td>0.068653099999999995</td>\n",
       "      <td>0.102903999999999995</td>\n",
       "      <td>0.961080999999999963</td>\n",
       "    </tr>\n",
       "    <tr>\n",
       "      <th>122470</th>\n",
       "      <td>122470</td>\n",
       "      <td>79</td>\n",
       "      <td>0</td>\n",
       "      <td>0</td>\n",
       "      <td>5</td>\n",
       "      <td>EDM</td>\n",
       "      <td>11.661903789700000189</td>\n",
       "      <td>30417</td>\n",
       "      <td>0</td>\n",
       "      <td>0</td>\n",
       "      <td>...</td>\n",
       "      <td>EDM</td>\n",
       "      <td>67</td>\n",
       "      <td>3</td>\n",
       "      <td>0.147752999999999995</td>\n",
       "      <td>0.103142999999999999</td>\n",
       "      <td>0.393179000000000001</td>\n",
       "      <td>0.245710000000000012</td>\n",
       "      <td>0.036370899999999998</td>\n",
       "      <td>0.073843400000000003</td>\n",
       "      <td>0.733001000000000014</td>\n",
       "    </tr>\n",
       "    <tr>\n",
       "      <th>122471</th>\n",
       "      <td>122471</td>\n",
       "      <td>80</td>\n",
       "      <td>1</td>\n",
       "      <td>0</td>\n",
       "      <td>6</td>\n",
       "      <td>EDM</td>\n",
       "      <td>50.009999000199996999</td>\n",
       "      <td>30417</td>\n",
       "      <td>0</td>\n",
       "      <td>0</td>\n",
       "      <td>...</td>\n",
       "      <td>FLA</td>\n",
       "      <td>68</td>\n",
       "      <td>4</td>\n",
       "      <td>0.009248980000000000</td>\n",
       "      <td>0.619550000000000045</td>\n",
       "      <td>0.140373999999999999</td>\n",
       "      <td>0.200851000000000002</td>\n",
       "      <td>0.018850700000000001</td>\n",
       "      <td>0.011125400000000001</td>\n",
       "      <td>0.578180000000000027</td>\n",
       "    </tr>\n",
       "  </tbody>\n",
       "</table>\n",
       "<p>122472 rows × 45 columns</p>\n",
       "</div>"
      ],
      "text/plain": [
       "         index  shotID  awayEmptyNet  awayPenalty1Length  awaySkatersOnIce  \\\n",
       "0            0       0             0                   0                 5   \n",
       "1            1       1             0                   0                 5   \n",
       "2            2       2             0                   0                 5   \n",
       "3            3       3             0                   0                 5   \n",
       "4            4       4             0                   0                 5   \n",
       "...        ...     ...           ...                 ...               ...   \n",
       "122467  122467      76             0                   0                 5   \n",
       "122468  122468      77             0                   0                 5   \n",
       "122469  122469      78             0                   0                 5   \n",
       "122470  122470      79             0                   0                 5   \n",
       "122471  122471      80             1                   0                 6   \n",
       "\n",
       "       awayTeamCode  distanceFromLastEvent  game_id  goal  homeEmptyNet  ...  \\\n",
       "0               NSH  56.035702904499999022    20001     0             0  ...   \n",
       "1               NSH  40.496913462599998468    20001     0             0  ...   \n",
       "2               NSH 120.432553738999999382    20001     0             0  ...   \n",
       "3               NSH  21.213203435600000546    20001     0             0  ...   \n",
       "4               NSH 129.799845916999998963    20001     0             0  ...   \n",
       "...             ...                    ...      ...   ...           ...  ...   \n",
       "122467          EDM  17.262676501600001444    30417     0             0  ...   \n",
       "122468          EDM  21.470910553599999560    30417     0             0  ...   \n",
       "122469          EDM  31.064449134000000186    30417     0             0  ...   \n",
       "122470          EDM  11.661903789700000189    30417     0             0  ...   \n",
       "122471          EDM  50.009999000199996999    30417     0             0  ...   \n",
       "\n",
       "        teamCode  timeSinceFaceoff timeSinceLastEvent               xFroze  \\\n",
       "0            TBL                26                  3 0.249174000000000007   \n",
       "1            TBL                35                  9 0.107944999999999999   \n",
       "2            TBL                72                 11 0.236192999999999986   \n",
       "3            TBL                68                 32 0.198635000000000006   \n",
       "4            NSH               122                 19 0.188582000000000000   \n",
       "...          ...               ...                ...                  ...   \n",
       "122467       EDM                39                 30 0.138670999999999989   \n",
       "122468       EDM                64                 11 0.130345999999999990   \n",
       "122469       EDM                64                  0 0.202368999999999993   \n",
       "122470       EDM                67                  3 0.147752999999999995   \n",
       "122471       FLA                68                  4 0.009248980000000000   \n",
       "\n",
       "                      xGoal  xPlayContinuedInZone  xPlayContinuedOutsideZone  \\\n",
       "0      0.035813299999999999  0.379309999999999981       0.277142999999999973   \n",
       "1      0.057704999999999999  0.464357999999999993       0.298119000000000023   \n",
       "2      0.016126399999999999  0.390417000000000014       0.301375000000000004   \n",
       "3      0.016796700000000001  0.438051999999999997       0.291723999999999983   \n",
       "4      0.008708779999999999  0.406287999999999982       0.349752000000000007   \n",
       "...                     ...                   ...                        ...   \n",
       "122467 0.167788999999999994  0.325660999999999978       0.279878000000000016   \n",
       "122468 0.022553400000000001  0.437248999999999999       0.323969000000000007   \n",
       "122469 0.502383000000000024  0.092293500000000001       0.031396500000000001   \n",
       "122470 0.103142999999999999  0.393179000000000001       0.245710000000000012   \n",
       "122471 0.619550000000000045  0.140373999999999999       0.200851000000000002   \n",
       "\n",
       "               xPlayStopped             xRebound       xShotWasOnGoal  \n",
       "0      0.022743900000000001 0.035816000000000001 0.751319999999999988  \n",
       "1      0.020588100000000002 0.051284499999999997 0.589712000000000014  \n",
       "2      0.025620500000000001 0.030268600000000000 0.785765000000000047  \n",
       "3      0.021107399999999998 0.033685500000000000 0.724470999999999976  \n",
       "4      0.019523400000000000 0.027146199999999999 0.727481000000000044  \n",
       "...                     ...                  ...                  ...  \n",
       "122467 0.022867400000000000 0.065133399999999994 0.796395999999999993  \n",
       "122468 0.023288300000000001 0.062594800000000006 0.716814999999999980  \n",
       "122469 0.068653099999999995 0.102903999999999995 0.961080999999999963  \n",
       "122470 0.036370899999999998 0.073843400000000003 0.733001000000000014  \n",
       "122471 0.018850700000000001 0.011125400000000001 0.578180000000000027  \n",
       "\n",
       "[122472 rows x 45 columns]"
      ]
     },
     "execution_count": 85,
     "metadata": {},
     "output_type": "execute_result"
    }
   ],
   "source": [
    "cols_to_keep = ['shotID', 'homeTeamCode', 'awayTeamCode', 'season', 'game_id','id',\n",
    "            'timeSinceLastEvent', 'period', 'team', 'location', 'shotGeneratedRebound','shotAngle', 'shotAnglePlusRebound',\n",
    "            'shotDistance', 'shotType', 'shotOnEmptyNet', 'shotRebound', 'shotAnglePlusReboundSpeed', \n",
    "            'shotRush', 'speedFromLastEvent', 'distanceFromLastEvent',\n",
    "            'lastEventShotAngle', 'lastEventShotDistance', 'lastEventCategory', 'homeEmptyNet',\n",
    "            'awayEmptyNet', 'homeSkatersOnIce', 'awaySkatersOnIce', 'playerPositionThatDidEvent', \n",
    "            'timeSinceFaceoff', 'shooterPlayerId', 'shooterLeftRight', 'xGoal', 'xFroze',\n",
    "            'xRebound', 'xPlayContinuedInZone', 'xPlayContinuedOutsideZone', 'xPlayStopped',\n",
    "            'xShotWasOnGoal', 'shotWasOnGoal', 'teamCode', 'power_play', 'situation', 'homePenalty1Length', 'awayPenalty1Length', 'goal']\n",
    "\n",
    "test1 = test1[test1.columns.intersection(cols_to_keep)]\n",
    "test1.reset_index()"
   ]
  },
  {
   "cell_type": "markdown",
   "id": "e1316ea1-5725-42fe-b11c-7b50f1d7ccf8",
   "metadata": {},
   "source": [
    "Once loaded I added matching power play and situation columns in order to match the training data. "
   ]
  },
  {
   "cell_type": "code",
   "execution_count": 86,
   "id": "cad6cf4d-15c4-48d6-9310-7a60caf102b6",
   "metadata": {},
   "outputs": [],
   "source": [
    "#Add a new column to the dataframe to easily identify Power Play goals\n",
    "\n",
    "test1['power_play'] = test1.apply\\\n",
    "                                    (lambda row: \"1\" if row['homePenalty1Length'] or row['awayPenalty1Length'] > 0 else \"0\", axis=1)\n",
    "test1['power_play'] = test1['power_play'].astype(int)"
   ]
  },
  {
   "cell_type": "code",
   "execution_count": 87,
   "id": "64986b56-962c-4b34-8ad8-ffe0f583cfdc",
   "metadata": {},
   "outputs": [
    {
     "data": {
      "text/html": [
       "<div>\n",
       "<style scoped>\n",
       "    .dataframe tbody tr th:only-of-type {\n",
       "        vertical-align: middle;\n",
       "    }\n",
       "\n",
       "    .dataframe tbody tr th {\n",
       "        vertical-align: top;\n",
       "    }\n",
       "\n",
       "    .dataframe thead th {\n",
       "        text-align: right;\n",
       "    }\n",
       "</style>\n",
       "<table border=\"1\" class=\"dataframe\">\n",
       "  <thead>\n",
       "    <tr style=\"text-align: right;\">\n",
       "      <th></th>\n",
       "      <th>shotID</th>\n",
       "      <th>awayEmptyNet</th>\n",
       "      <th>awayPenalty1Length</th>\n",
       "      <th>awaySkatersOnIce</th>\n",
       "      <th>awayTeamCode</th>\n",
       "      <th>distanceFromLastEvent</th>\n",
       "      <th>game_id</th>\n",
       "      <th>goal</th>\n",
       "      <th>homeEmptyNet</th>\n",
       "      <th>homePenalty1Length</th>\n",
       "      <th>...</th>\n",
       "      <th>timeSinceLastEvent</th>\n",
       "      <th>xFroze</th>\n",
       "      <th>xGoal</th>\n",
       "      <th>xPlayContinuedInZone</th>\n",
       "      <th>xPlayContinuedOutsideZone</th>\n",
       "      <th>xPlayStopped</th>\n",
       "      <th>xRebound</th>\n",
       "      <th>xShotWasOnGoal</th>\n",
       "      <th>power_play</th>\n",
       "      <th>situation</th>\n",
       "    </tr>\n",
       "  </thead>\n",
       "  <tbody>\n",
       "    <tr>\n",
       "      <th>0</th>\n",
       "      <td>0</td>\n",
       "      <td>0</td>\n",
       "      <td>0</td>\n",
       "      <td>5</td>\n",
       "      <td>NSH</td>\n",
       "      <td>56.035702904499999022</td>\n",
       "      <td>20001</td>\n",
       "      <td>0</td>\n",
       "      <td>0</td>\n",
       "      <td>0</td>\n",
       "      <td>...</td>\n",
       "      <td>3</td>\n",
       "      <td>0.249174000000000007</td>\n",
       "      <td>0.035813299999999999</td>\n",
       "      <td>0.379309999999999981</td>\n",
       "      <td>0.277142999999999973</td>\n",
       "      <td>0.022743900000000001</td>\n",
       "      <td>0.035816000000000001</td>\n",
       "      <td>0.751319999999999988</td>\n",
       "      <td>0</td>\n",
       "      <td>5v5</td>\n",
       "    </tr>\n",
       "    <tr>\n",
       "      <th>1</th>\n",
       "      <td>1</td>\n",
       "      <td>0</td>\n",
       "      <td>0</td>\n",
       "      <td>5</td>\n",
       "      <td>NSH</td>\n",
       "      <td>40.496913462599998468</td>\n",
       "      <td>20001</td>\n",
       "      <td>0</td>\n",
       "      <td>0</td>\n",
       "      <td>0</td>\n",
       "      <td>...</td>\n",
       "      <td>9</td>\n",
       "      <td>0.107944999999999999</td>\n",
       "      <td>0.057704999999999999</td>\n",
       "      <td>0.464357999999999993</td>\n",
       "      <td>0.298119000000000023</td>\n",
       "      <td>0.020588100000000002</td>\n",
       "      <td>0.051284499999999997</td>\n",
       "      <td>0.589712000000000014</td>\n",
       "      <td>0</td>\n",
       "      <td>5v5</td>\n",
       "    </tr>\n",
       "    <tr>\n",
       "      <th>2</th>\n",
       "      <td>2</td>\n",
       "      <td>0</td>\n",
       "      <td>0</td>\n",
       "      <td>5</td>\n",
       "      <td>NSH</td>\n",
       "      <td>120.432553738999999382</td>\n",
       "      <td>20001</td>\n",
       "      <td>0</td>\n",
       "      <td>0</td>\n",
       "      <td>0</td>\n",
       "      <td>...</td>\n",
       "      <td>11</td>\n",
       "      <td>0.236192999999999986</td>\n",
       "      <td>0.016126399999999999</td>\n",
       "      <td>0.390417000000000014</td>\n",
       "      <td>0.301375000000000004</td>\n",
       "      <td>0.025620500000000001</td>\n",
       "      <td>0.030268600000000000</td>\n",
       "      <td>0.785765000000000047</td>\n",
       "      <td>0</td>\n",
       "      <td>5v5</td>\n",
       "    </tr>\n",
       "    <tr>\n",
       "      <th>3</th>\n",
       "      <td>3</td>\n",
       "      <td>0</td>\n",
       "      <td>0</td>\n",
       "      <td>5</td>\n",
       "      <td>NSH</td>\n",
       "      <td>21.213203435600000546</td>\n",
       "      <td>20001</td>\n",
       "      <td>0</td>\n",
       "      <td>0</td>\n",
       "      <td>0</td>\n",
       "      <td>...</td>\n",
       "      <td>32</td>\n",
       "      <td>0.198635000000000006</td>\n",
       "      <td>0.016796700000000001</td>\n",
       "      <td>0.438051999999999997</td>\n",
       "      <td>0.291723999999999983</td>\n",
       "      <td>0.021107399999999998</td>\n",
       "      <td>0.033685500000000000</td>\n",
       "      <td>0.724470999999999976</td>\n",
       "      <td>0</td>\n",
       "      <td>5v5</td>\n",
       "    </tr>\n",
       "    <tr>\n",
       "      <th>4</th>\n",
       "      <td>4</td>\n",
       "      <td>0</td>\n",
       "      <td>0</td>\n",
       "      <td>5</td>\n",
       "      <td>NSH</td>\n",
       "      <td>129.799845916999998963</td>\n",
       "      <td>20001</td>\n",
       "      <td>0</td>\n",
       "      <td>0</td>\n",
       "      <td>0</td>\n",
       "      <td>...</td>\n",
       "      <td>19</td>\n",
       "      <td>0.188582000000000000</td>\n",
       "      <td>0.008708779999999999</td>\n",
       "      <td>0.406287999999999982</td>\n",
       "      <td>0.349752000000000007</td>\n",
       "      <td>0.019523400000000000</td>\n",
       "      <td>0.027146199999999999</td>\n",
       "      <td>0.727481000000000044</td>\n",
       "      <td>0</td>\n",
       "      <td>5v5</td>\n",
       "    </tr>\n",
       "  </tbody>\n",
       "</table>\n",
       "<p>5 rows × 46 columns</p>\n",
       "</div>"
      ],
      "text/plain": [
       "   shotID  awayEmptyNet  awayPenalty1Length  awaySkatersOnIce awayTeamCode  \\\n",
       "0       0             0                   0                 5          NSH   \n",
       "1       1             0                   0                 5          NSH   \n",
       "2       2             0                   0                 5          NSH   \n",
       "3       3             0                   0                 5          NSH   \n",
       "4       4             0                   0                 5          NSH   \n",
       "\n",
       "   distanceFromLastEvent  game_id  goal  homeEmptyNet  homePenalty1Length  \\\n",
       "0  56.035702904499999022    20001     0             0                   0   \n",
       "1  40.496913462599998468    20001     0             0                   0   \n",
       "2 120.432553738999999382    20001     0             0                   0   \n",
       "3  21.213203435600000546    20001     0             0                   0   \n",
       "4 129.799845916999998963    20001     0             0                   0   \n",
       "\n",
       "   ...  timeSinceLastEvent               xFroze                xGoal  \\\n",
       "0  ...                   3 0.249174000000000007 0.035813299999999999   \n",
       "1  ...                   9 0.107944999999999999 0.057704999999999999   \n",
       "2  ...                  11 0.236192999999999986 0.016126399999999999   \n",
       "3  ...                  32 0.198635000000000006 0.016796700000000001   \n",
       "4  ...                  19 0.188582000000000000 0.008708779999999999   \n",
       "\n",
       "  xPlayContinuedInZone  xPlayContinuedOutsideZone         xPlayStopped  \\\n",
       "0 0.379309999999999981       0.277142999999999973 0.022743900000000001   \n",
       "1 0.464357999999999993       0.298119000000000023 0.020588100000000002   \n",
       "2 0.390417000000000014       0.301375000000000004 0.025620500000000001   \n",
       "3 0.438051999999999997       0.291723999999999983 0.021107399999999998   \n",
       "4 0.406287999999999982       0.349752000000000007 0.019523400000000000   \n",
       "\n",
       "              xRebound       xShotWasOnGoal power_play  situation  \n",
       "0 0.035816000000000001 0.751319999999999988          0        5v5  \n",
       "1 0.051284499999999997 0.589712000000000014          0        5v5  \n",
       "2 0.030268600000000000 0.785765000000000047          0        5v5  \n",
       "3 0.033685500000000000 0.724470999999999976          0        5v5  \n",
       "4 0.027146199999999999 0.727481000000000044          0        5v5  \n",
       "\n",
       "[5 rows x 46 columns]"
      ]
     },
     "execution_count": 87,
     "metadata": {},
     "output_type": "execute_result"
    }
   ],
   "source": [
    "#Add a new column to the dataframe to identify how many skaters from each team were on the ice at the time of the goal.\n",
    "\n",
    "def determine_situation(row):\n",
    "    if row.loc['team'] == 'HOME' and row.loc['homeSkatersOnIce'] == 5 and row.loc['awaySkatersOnIce'] == 6:\n",
    "        return '5v6'\n",
    "    elif row.loc['team'] == 'HOME' and row.loc['homeSkatersOnIce'] == 6 and row.loc['awaySkatersOnIce'] == 5:\n",
    "        return '6v5'\n",
    "    elif row.loc['team'] == 'HOME' and row.loc['homeSkatersOnIce'] == 5 and row.loc['awaySkatersOnIce'] == 4:\n",
    "        return '5v4'\n",
    "    elif row.loc['team'] == 'HOME' and row.loc['homeSkatersOnIce'] == 5 and row.loc['awaySkatersOnIce'] == 3:\n",
    "        return '5v3'\n",
    "    elif row.loc['team'] == 'HOME' and row.loc['homeSkatersOnIce'] == 4 and row.loc['awaySkatersOnIce'] == 5:\n",
    "        return '4v5'\n",
    "    elif row.loc['team'] == 'HOME' and row.loc['homeSkatersOnIce'] == 3 and row.loc['awaySkatersOnIce'] == 5:\n",
    "        return '3v5'\n",
    "    elif row.loc['team'] == 'AWAY' and row.loc['homeSkatersOnIce'] == 5 and row.loc['awaySkatersOnIce'] == 6:\n",
    "        return '6v5'\n",
    "    elif row.loc['team'] == 'AWAY' and row.loc['homeSkatersOnIce'] == 6 and row.loc['awaySkatersOnIce'] == 5:\n",
    "        return '5v6'\n",
    "    elif row.loc['team'] == 'AWAY' and row.loc['homeSkatersOnIce'] == 4 and row.loc['awaySkatersOnIce'] == 5:\n",
    "        return '5v4'\n",
    "    elif row.loc['team'] == 'AWAY' and row.loc['homeSkatersOnIce'] == 3 and row.loc['awaySkatersOnIce'] == 5:\n",
    "        return '5v3'\n",
    "    elif row.loc['team'] == 'AWAY' and row.loc['homeSkatersOnIce'] == 5 and row.loc['awaySkatersOnIce'] == 4:\n",
    "        return '4v5'\n",
    "    elif row.loc['team'] == 'AWAY' and row.loc['homeSkatersOnIce'] == 5 and row.loc['awaySkatersOnIce'] == 3:\n",
    "        return '3v5'\n",
    "    else:\n",
    "        return '5v5'\n",
    "\n",
    "# Adding the new column\n",
    "\n",
    "test1['situation'] = test1.apply(determine_situation, axis=1)\n",
    "test1.head()"
   ]
  },
  {
   "cell_type": "code",
   "execution_count": 76,
   "id": "64f30442-196f-40a9-a6dd-e7c0fe01a8ec",
   "metadata": {},
   "outputs": [],
   "source": [
    "features = cols_to_keep = ['shotID', 'homeTeamCode', 'awayTeamCode', 'season', 'game_id','id',\n",
    "            'timeSinceLastEvent', 'period', 'team', 'location', 'shotGeneratedRebound','shotAngle', 'shotAnglePlusRebound',\n",
    "            'shotDistance', 'shotType', 'shotOnEmptyNet', 'shotRebound', 'shotAnglePlusReboundSpeed', \n",
    "            'shotRush', 'speedFromLastEvent', 'distanceFromLastEvent',\n",
    "            'lastEventShotAngle', 'lastEventShotDistance', 'lastEventCategory', 'homeEmptyNet',\n",
    "            'awayEmptyNet', 'homeSkatersOnIce', 'awaySkatersOnIce', 'playerPositionThatDidEvent', \n",
    "            'timeSinceFaceoff', 'shooterPlayerId', 'shooterLeftRight', 'xGoal', 'xFroze',\n",
    "            'xRebound', 'xPlayContinuedInZone', 'xPlayContinuedOutsideZone', 'xPlayStopped',\n",
    "            'xShotWasOnGoal', 'shotWasOnGoal', 'teamCode', 'power_play', 'situation']"
   ]
  },
  {
   "cell_type": "code",
   "execution_count": 88,
   "id": "4c86cbd3-fd9a-4f35-97f6-a3022f454bc0",
   "metadata": {},
   "outputs": [],
   "source": [
    "# Drop unwanted columns\n",
    "test1 = test1.drop(columns=['homePenalty1Length', 'awayPenalty1Length'])"
   ]
  },
  {
   "cell_type": "code",
   "execution_count": 78,
   "id": "f040efa7-c879-4cbc-b760-938bb4fa14c2",
   "metadata": {},
   "outputs": [],
   "source": [
    "from IPython.display import display\n",
    "pd.options.display.float_format = '{:.18f}'.format"
   ]
  },
  {
   "cell_type": "code",
   "execution_count": 95,
   "id": "548c43e1-0b05-4566-81d3-0c619e74326a",
   "metadata": {},
   "outputs": [
    {
     "data": {
      "text/plain": [
       "0        15.953006244141992198\n",
       "1        15.952986428369698046\n",
       "2        15.953181148483148277\n",
       "3        15.953172893403060328\n",
       "4        15.952853959281956264\n",
       "                  ...         \n",
       "122467   15.953032664560918619\n",
       "122468   15.953032664560918619\n",
       "122469   15.952657051604887783\n",
       "122470   15.952657051604887783\n",
       "122471   15.953049176968283618\n",
       "Name: shooterPlayerId, Length: 122472, dtype: float64"
      ]
     },
     "execution_count": 95,
     "metadata": {},
     "output_type": "execute_result"
    }
   ],
   "source": [
    "# Scale player id column to match training and testing data\n",
    "test1['shooterPlayerId'] = np.log1p(abs(test1['shooterPlayerId']))\n",
    "test1['shooterPlayerId']"
   ]
  },
  {
   "cell_type": "code",
   "execution_count": 108,
   "id": "df47994b-3502-4bd4-9086-0cdbce4c317c",
   "metadata": {},
   "outputs": [],
   "source": [
    "# Funcion to predict goals for a speific player based on their shot data\n",
    "\n",
    "def predict_goals_for_player(player_id, model, player_shot_data, feature_columns):\n",
    "    \"\"\"\n",
    "    Predict the number of goals for a specific player based on their shot data.\n",
    "\n",
    "    Parameters:\n",
    "    - player_id: str or int, the ID of the player\n",
    "    - model: trained classification model\n",
    "    - player_shot_data: DataFrame containing all shot-level data (with player_id)\n",
    "    - feature_columns: list of columns used for modeling (same as X_train.columns)\n",
    "\n",
    "    Returns:\n",
    "    - predicted_goals: float, expected number of goals\n",
    "    - num_shots: int, total shots for this player\n",
    "    \"\"\"\n",
    "    # Filter shot-level data for this player\n",
    "    player_data = player_shot_data[player_shot_data['shooterPlayerId'] == player_id]\n",
    "    \n",
    "    if player_data.empty:\n",
    "        print(f\"No shot data found for player ID: {player_id}\")\n",
    "        return 0, 0\n",
    "\n",
    "    # Extract only feature columns \n",
    "    X_player = player_data[feature_columns].copy()\n",
    "    \n",
    "    # Make predictions\n",
    "    goal_probs = model.predict_proba(X_player)[:, 1]\n",
    "    \n",
    "    # Total predicted goals = sum of probabilities\n",
    "    predicted_goals = goal_probs.sum()\n",
    "    \n",
    "    return predicted_goals, len(goal_probs)"
   ]
  },
  {
   "cell_type": "code",
   "execution_count": 109,
   "id": "49aebab1-02ab-4db7-832f-e50bd2ffd198",
   "metadata": {},
   "outputs": [
    {
     "name": "stdout",
     "output_type": "stream",
     "text": [
      "Player 15.953181148483148 is expected to score 1.6 goals based on 3 shots.\n"
     ]
    }
   ],
   "source": [
    "# Make goal predictions based on player id\n",
    "\n",
    "player_id = 15.953181148483148277\n",
    "predicted_goals, num_shots = predict_goals_for_player(player_id, xgb_model4, X_test_unscaled, X_val_unscaled.columns)\n",
    "\n",
    "print(f\"Player {player_id} is expected to score {predicted_goals:.1f} goals based on {num_shots} shots.\")"
   ]
  },
  {
   "cell_type": "code",
   "execution_count": 110,
   "id": "faa1821a-494e-42f6-8355-a3e4e591fafb",
   "metadata": {},
   "outputs": [
    {
     "name": "stdout",
     "output_type": "stream",
     "text": [
      "Predicted goals 1.6 vs Actual goals 7\n"
     ]
    }
   ],
   "source": [
    "#Compare prediction to actual totals from next season\n",
    "\n",
    "player_shot_data = test1[test1['shooterPlayerId'] == player_id]\n",
    "acutal_goals = player_shot_data['goal'].sum()\n",
    "print(f\"Predicted goals {predicted_goals:.1f} vs Actual goals {acutal_goals}\")"
   ]
  },
  {
   "cell_type": "code",
   "execution_count": null,
   "id": "8d7b860c-7276-47ee-841f-f2e1c4292a57",
   "metadata": {},
   "outputs": [],
   "source": []
  }
 ],
 "metadata": {
  "kernelspec": {
   "display_name": "py3.12",
   "language": "python",
   "name": "py3.12"
  },
  "language_info": {
   "codemirror_mode": {
    "name": "ipython",
    "version": 3
   },
   "file_extension": ".py",
   "mimetype": "text/x-python",
   "name": "python",
   "nbconvert_exporter": "python",
   "pygments_lexer": "ipython3",
   "version": "3.12.1"
  }
 },
 "nbformat": 4,
 "nbformat_minor": 5
}
